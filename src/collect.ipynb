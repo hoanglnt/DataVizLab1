{
 "cells": [
  {
   "attachments": {},
   "cell_type": "markdown",
   "metadata": {},
   "source": [
    "# 1. Thu thập dữ liệu \n",
    "\n",
    "### Ngữ cảnh, câu chuyện mà nhóm sinh viên thực hiện việc tìm kiếm dữ liệu?\n",
    "\n",
    "-   Khi nhóm muốn tìm một bộ phim hay mà không phải tốn quá nhiều thời gian để tìm kiếm phim cùng với những đánh giá, bình luận của người xem để nhóm so sánh xem nhóm sẽ xem phim nào.\n",
    "\n",
    "### Dữ liệu mà nhóm sinh viên là về chủ đề gì và được lấy từ nguồn nào?\n",
    "\n",
    "-   Nhóm đã thu thập và phân tích dataset về \"phim và series được đánh giá cao nhất\" được lấy từ Kaggle. Tuy nhiên, trong đồ án này nhóm đã quyết định chỉ xử lý và phân tích dữ liệu của các phim lẻ(Film).\n",
    "-   Mỗi một dòng dữ liệu bao gồm: Name, Date, Rate, Votes, Genre, Duration, Type, Certificate, Episodes, Nudity, Violence, Profanity, Alcohol, Frightening. Ý nghĩa của mỗi cột sẽ được giải thích ở phần tiếp theo.\n",
    "\n",
    "### Người ta có cho phép sử dụng dữ liệu như thế này hay không? Ví dụ: cần kiểm tra thử License của dữ liệu là gì?\n",
    "\n",
    "-   Dữ liệu được cung cấp bởi người đăng tải (tạm gọi là tác giá) trên trang Kaggle. Dữ liệu này được nhóm thu thập tuân thủ giấy phép bản quyền CC0 1.0 Universal (CC0 1.0) Public Domain Dedication, cho phép người khác có quyển chia sẻ, sử dụng và xây dựng, thậm chí cho cả mục đích thương mại mà không cần tác giả cho phép, dựa trên tác phẩm mà tác giả tạo ra, trong trường hợp này là dữ liệu về các bộ phim và series được đánh giá cao nhất.\n",
    "\n",
    "### Người ta đã thu thập dữ liệu này như thế nào? Phương pháp thực hiện là gì?\n",
    "\n",
    "-   Dữ liệu này được tác giả lấy từ IMDB Website là một trang web phổ biến để đánh giá các bộ phim và chương trình truyền hình. \n",
    "-   Tác giả đã thu thập dữ liệu này bằng phương pháp Web Scraping từ trang web IMDB."
   ]
  }
 ],
 "metadata": {
  "language_info": {
   "name": "python"
  },
  "orig_nbformat": 4
 },
 "nbformat": 4,
 "nbformat_minor": 2
}
