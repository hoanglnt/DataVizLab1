{
 "cells": [
  {
   "attachments": {},
   "cell_type": "markdown",
   "metadata": {},
   "source": [
    "# 0.Import libraries"
   ]
  },
  {
   "cell_type": "code",
   "execution_count": 392,
   "metadata": {},
   "outputs": [],
   "source": [
    "import pandas as pd\n",
    "import matplotlib.pyplot as plt\n",
    "import seaborn as sns\n",
    "import numpy as np\n",
    "\n",
    "sns.set_style(\"darkgrid\")"
   ]
  },
  {
   "attachments": {},
   "cell_type": "markdown",
   "metadata": {},
   "source": [
    "# 2. Data preprocessing"
   ]
  },
  {
   "cell_type": "code",
   "execution_count": 393,
   "metadata": {},
   "outputs": [
    {
     "data": {
      "text/html": [
       "<div>\n",
       "<style scoped>\n",
       "    .dataframe tbody tr th:only-of-type {\n",
       "        vertical-align: middle;\n",
       "    }\n",
       "\n",
       "    .dataframe tbody tr th {\n",
       "        vertical-align: top;\n",
       "    }\n",
       "\n",
       "    .dataframe thead th {\n",
       "        text-align: right;\n",
       "    }\n",
       "</style>\n",
       "<table border=\"1\" class=\"dataframe\">\n",
       "  <thead>\n",
       "    <tr style=\"text-align: right;\">\n",
       "      <th></th>\n",
       "      <th>Name</th>\n",
       "      <th>Date</th>\n",
       "      <th>Rate</th>\n",
       "      <th>Votes</th>\n",
       "      <th>Genre</th>\n",
       "      <th>Duration</th>\n",
       "      <th>Type</th>\n",
       "      <th>Certificate</th>\n",
       "      <th>Episodes</th>\n",
       "      <th>Nudity</th>\n",
       "      <th>Violence</th>\n",
       "      <th>Profanity</th>\n",
       "      <th>Alcohol</th>\n",
       "      <th>Frightening</th>\n",
       "    </tr>\n",
       "  </thead>\n",
       "  <tbody>\n",
       "    <tr>\n",
       "      <th>0</th>\n",
       "      <td>No Time to Die</td>\n",
       "      <td>2021</td>\n",
       "      <td>7.6</td>\n",
       "      <td>107,163</td>\n",
       "      <td>Action, Adventure, Thriller</td>\n",
       "      <td>163</td>\n",
       "      <td>Film</td>\n",
       "      <td>PG-13</td>\n",
       "      <td>-</td>\n",
       "      <td>Mild</td>\n",
       "      <td>Moderate</td>\n",
       "      <td>Mild</td>\n",
       "      <td>Mild</td>\n",
       "      <td>Moderate</td>\n",
       "    </tr>\n",
       "    <tr>\n",
       "      <th>1</th>\n",
       "      <td>The Guilty</td>\n",
       "      <td>2021</td>\n",
       "      <td>6.3</td>\n",
       "      <td>64,375</td>\n",
       "      <td>Crime, Drama, Thriller</td>\n",
       "      <td>90</td>\n",
       "      <td>Film</td>\n",
       "      <td>R</td>\n",
       "      <td>-</td>\n",
       "      <td>None</td>\n",
       "      <td>None</td>\n",
       "      <td>Severe</td>\n",
       "      <td>None</td>\n",
       "      <td>Moderate</td>\n",
       "    </tr>\n",
       "    <tr>\n",
       "      <th>2</th>\n",
       "      <td>The Many Saints of Newark</td>\n",
       "      <td>2021</td>\n",
       "      <td>6.4</td>\n",
       "      <td>27,145</td>\n",
       "      <td>Crime, Drama</td>\n",
       "      <td>120</td>\n",
       "      <td>Film</td>\n",
       "      <td>R</td>\n",
       "      <td>-</td>\n",
       "      <td>Moderate</td>\n",
       "      <td>Severe</td>\n",
       "      <td>Severe</td>\n",
       "      <td>Moderate</td>\n",
       "      <td>Moderate</td>\n",
       "    </tr>\n",
       "    <tr>\n",
       "      <th>3</th>\n",
       "      <td>Venom: Let There Be Carnage</td>\n",
       "      <td>2021</td>\n",
       "      <td>6.4</td>\n",
       "      <td>30,443</td>\n",
       "      <td>Action, Adventure, Sci-Fi</td>\n",
       "      <td>97</td>\n",
       "      <td>Film</td>\n",
       "      <td>PG-13</td>\n",
       "      <td>-</td>\n",
       "      <td>None</td>\n",
       "      <td>Moderate</td>\n",
       "      <td>Moderate</td>\n",
       "      <td>Mild</td>\n",
       "      <td>Moderate</td>\n",
       "    </tr>\n",
       "    <tr>\n",
       "      <th>4</th>\n",
       "      <td>Dune</td>\n",
       "      <td>2021</td>\n",
       "      <td>8.3</td>\n",
       "      <td>84,636</td>\n",
       "      <td>Action, Adventure, Drama</td>\n",
       "      <td>155</td>\n",
       "      <td>Film</td>\n",
       "      <td>PG-13</td>\n",
       "      <td>-</td>\n",
       "      <td>None</td>\n",
       "      <td>Moderate</td>\n",
       "      <td>None</td>\n",
       "      <td>Mild</td>\n",
       "      <td>Moderate</td>\n",
       "    </tr>\n",
       "  </tbody>\n",
       "</table>\n",
       "</div>"
      ],
      "text/plain": [
       "                          Name  Date Rate    Votes  \\\n",
       "0               No Time to Die  2021  7.6  107,163   \n",
       "1                   The Guilty  2021  6.3   64,375   \n",
       "2    The Many Saints of Newark  2021  6.4   27,145   \n",
       "3  Venom: Let There Be Carnage  2021  6.4   30,443   \n",
       "4                         Dune  2021  8.3   84,636   \n",
       "\n",
       "                         Genre Duration  Type Certificate Episodes    Nudity  \\\n",
       "0  Action, Adventure, Thriller     163   Film       PG-13        -      Mild   \n",
       "1       Crime, Drama, Thriller      90   Film           R        -      None   \n",
       "2                 Crime, Drama     120   Film           R        -  Moderate   \n",
       "3    Action, Adventure, Sci-Fi      97   Film       PG-13        -      None   \n",
       "4     Action, Adventure, Drama     155   Film       PG-13        -      None   \n",
       "\n",
       "   Violence Profanity   Alcohol Frightening  \n",
       "0  Moderate      Mild      Mild    Moderate  \n",
       "1      None    Severe      None    Moderate  \n",
       "2    Severe    Severe  Moderate    Moderate  \n",
       "3  Moderate  Moderate      Mild    Moderate  \n",
       "4  Moderate      None      Mild    Moderate  "
      ]
     },
     "execution_count": 393,
     "metadata": {},
     "output_type": "execute_result"
    }
   ],
   "source": [
    "df = pd.read_csv(\"../data/imdb.csv\")\n",
    "df.head()"
   ]
  },
  {
   "cell_type": "code",
   "execution_count": 394,
   "metadata": {},
   "outputs": [
    {
     "data": {
      "text/plain": [
       "(6178, 14)"
      ]
     },
     "execution_count": 394,
     "metadata": {},
     "output_type": "execute_result"
    }
   ],
   "source": [
    "df.shape"
   ]
  },
  {
   "attachments": {},
   "cell_type": "markdown",
   "metadata": {},
   "source": [
    "Dữ liệu có 6178 dòng và 14 cột"
   ]
  },
  {
   "attachments": {},
   "cell_type": "markdown",
   "metadata": {},
   "source": [
    "**Giải thích ý nghĩa từng cột:**\n",
    "- `Name`: Tên phim\n",
    "- `Date`: Ngày phát hành\n",
    "- `Rate`: Điểm imdb trung bình của phim\n",
    "- `Votes`: Số lượng người đánh giá phim\n",
    "- `Genre`: Thể loại phim\n",
    "- `Duration`: Độ dài phim\n",
    "- `Type`: Loại phim, gồm `Film` - Phim lẻ và `Series` - Phim bộ\n",
    "- `Certificate`: Nhãn phim\n",
    "- `Episodes`: Số lượng tập (chỉ đối với các dòng có `Type` là `Series`)\n",
    "- `Nudity`: Mức độ các cảnh 'nóng' trong phim\n",
    "- `Violence`: Mức độ các cảnh bạo lực trong phim\n",
    "- `Profanity`: Mức độ cảc cảnh chửi rủa trong phim\n",
    "- `Alcohol`: Mức độ các cảnh xuất hiện cồn trong phim\n",
    "- `Frightening`: mức độ các cảnh gây sợ hãi trong phim\n",
    "\n",
    "Các cột `Nudity, Violence, Profanity, Alcohol, Frightening` có chung bộ giá trị đánh giá mức độ gồm:\n",
    "- `None`: Hầu như không có\n",
    "- `Mild`: Nhẹ\n",
    "- `Moderate`: Vừa phải\n",
    "- `Severe`: Nặng\n",
    "- `No Rate`: Không có đánh giá của người xem ở khía cạnh này"
   ]
  },
  {
   "attachments": {},
   "cell_type": "markdown",
   "metadata": {},
   "source": [
    "Trước khi tiến hành tiền xử lí dữ liệu, như đã đề cập trước ở phần `1. Data Collecting`, nhóm chỉ tiến hành xử lí và phân tích dữ liệu của các phim lẻ (`Film`), không phân tích dữ liệu các phim bộ (`Series`), do đó nhóm sẽ loại bỏ các dòng có giá trị `Series` của cột `Type`"
   ]
  },
  {
   "cell_type": "code",
   "execution_count": 395,
   "metadata": {},
   "outputs": [],
   "source": [
    "df = df[df[\"Type\"] == \"Film\"]"
   ]
  },
  {
   "cell_type": "code",
   "execution_count": 396,
   "metadata": {},
   "outputs": [
    {
     "data": {
      "text/plain": [
       "-    4446\n",
       "Name: Episodes, dtype: int64"
      ]
     },
     "execution_count": 396,
     "metadata": {},
     "output_type": "execute_result"
    }
   ],
   "source": [
    "df[\"Episodes\"].value_counts()"
   ]
  },
  {
   "attachments": {},
   "cell_type": "markdown",
   "metadata": {},
   "source": [
    "Sau khi chỉ giữ lại các `Film` thì ở cột `Episodes` chỉ số lượng tập của phim lúc này chỉ chứa giá trị '`-`'. Đồng thời lúc này cột `Type` cũng chỉ còn chứa giá trị `Film`, do đó nhóm sẽ xóa cột `Type` và `Episodes`"
   ]
  },
  {
   "cell_type": "code",
   "execution_count": 397,
   "metadata": {},
   "outputs": [],
   "source": [
    "df.drop([\"Episodes\", \"Type\"], axis=1, inplace=True)"
   ]
  },
  {
   "cell_type": "code",
   "execution_count": 398,
   "metadata": {},
   "outputs": [
    {
     "data": {
      "text/plain": [
       "(4446, 12)"
      ]
     },
     "execution_count": 398,
     "metadata": {},
     "output_type": "execute_result"
    }
   ],
   "source": [
    "df.shape"
   ]
  },
  {
   "attachments": {},
   "cell_type": "markdown",
   "metadata": {},
   "source": [
    "Sau khi xóa các dòng `Series` và cột `Episodes`, dữ liệu còn lại 4446 dòng, 13 cột"
   ]
  },
  {
   "attachments": {},
   "cell_type": "markdown",
   "metadata": {},
   "source": [
    "## 2.1. Missing value\n"
   ]
  },
  {
   "cell_type": "code",
   "execution_count": 399,
   "metadata": {},
   "outputs": [
    {
     "data": {
      "text/plain": [
       "Name           0\n",
       "Date           0\n",
       "Rate           0\n",
       "Votes          0\n",
       "Genre          0\n",
       "Duration       0\n",
       "Certificate    0\n",
       "Nudity         0\n",
       "Violence       0\n",
       "Profanity      0\n",
       "Alcohol        0\n",
       "Frightening    0\n",
       "dtype: int64"
      ]
     },
     "execution_count": 399,
     "metadata": {},
     "output_type": "execute_result"
    }
   ],
   "source": [
    "df.isna().sum()"
   ]
  },
  {
   "attachments": {},
   "cell_type": "markdown",
   "metadata": {},
   "source": [
    "Kiểm tra sơ bằng hàm `isna()`, không có ô dữ liệu nào bị thiếu (không có giá trị). Tuy nhiên khi quan sát dữ liệu, nhóm nhận thấy ở một số cột có các giá trị tượng trưng cho không có dữ liệu như `\"None\"`, `\"No Rate\"`"
   ]
  },
  {
   "attachments": {},
   "cell_type": "markdown",
   "metadata": {},
   "source": [
    "### 2.1.1. Cột `Rate` và cột `Votes`\n",
    "\n"
   ]
  },
  {
   "cell_type": "code",
   "execution_count": 400,
   "metadata": {},
   "outputs": [
    {
     "data": {
      "text/plain": [
       "Index(['1.2', '1.9', '2.0', '2.3', '2.4', '2.5', '2.7', '2.8', '2.9', '3.0',\n",
       "       '3.1', '3.2', '3.3', '3.4', '3.5', '3.7', '3.8', '3.9', '4.0', '4.1',\n",
       "       '4.2', '4.3', '4.4', '4.5', '4.6', '4.7', '4.8', '4.9', '5.0', '5.1',\n",
       "       '5.2', '5.3', '5.4', '5.5', '5.6', '5.7', '5.8', '5.9', '6.0', '6.1',\n",
       "       '6.2', '6.3', '6.4', '6.5', '6.6', '6.7', '6.8', '6.9', '7.0', '7.1',\n",
       "       '7.2', '7.3', '7.4', '7.5', '7.6', '7.7', '7.8', '7.9', '8.0', '8.1',\n",
       "       '8.2', '8.3', '8.4', '8.5', '8.6', '8.7', '8.8', '8.9', '9.0', '9.2',\n",
       "       '9.3', 'No Rate'],\n",
       "      dtype='object')"
      ]
     },
     "execution_count": 400,
     "metadata": {},
     "output_type": "execute_result"
    }
   ],
   "source": [
    "df[\"Rate\"].value_counts().sort_index().index"
   ]
  },
  {
   "cell_type": "code",
   "execution_count": 401,
   "metadata": {},
   "outputs": [
    {
     "data": {
      "text/plain": [
       "Index(['1,000', '1,015', '1,023', '1,031,650', '1,036,534', '1,044',\n",
       "       '1,045,683', '1,047,410', '1,049,398', '1,054',\n",
       "       ...\n",
       "       '99,495', '99,578', '99,655', '99,665', '99,670', '99,760', '990,836',\n",
       "       '993,069', '995', 'No Votes'],\n",
       "      dtype='object', length=3439)"
      ]
     },
     "execution_count": 401,
     "metadata": {},
     "output_type": "execute_result"
    }
   ],
   "source": [
    "df[\"Votes\"].value_counts().sort_index().index"
   ]
  },
  {
   "cell_type": "code",
   "execution_count": 402,
   "metadata": {},
   "outputs": [
    {
     "data": {
      "text/plain": [
       "True"
      ]
     },
     "execution_count": 402,
     "metadata": {},
     "output_type": "execute_result"
    }
   ],
   "source": [
    "df[df[\"Rate\"] == \"No Rate\"].equals(df[df[\"Votes\"] == \"No Votes\"])"
   ]
  },
  {
   "cell_type": "code",
   "execution_count": 403,
   "metadata": {},
   "outputs": [
    {
     "data": {
      "text/plain": [
       "145"
      ]
     },
     "execution_count": 403,
     "metadata": {},
     "output_type": "execute_result"
    }
   ],
   "source": [
    "df[df[\"Rate\"] == \"No Rate\"][\"Rate\"].count()"
   ]
  },
  {
   "attachments": {},
   "cell_type": "markdown",
   "metadata": {},
   "source": [
    "Kiểm tra hai cột `Rate` và `Votes`, nhóm nhận thấy cột `Rate` có giá trị `No Rate` tượng trưng cho giá trị rỗng, cột `Votes` có giá trị `No Votes` tượng trưng cho giá trị rỗng. Đồng thời các dòng có giá trị `No Rate` cũng chính là các dòng có giá trị `No Votes`. Do chỉ có 145 dòng này, nhóm quyết định xóa các dòng này khỏi dataframe"
   ]
  },
  {
   "cell_type": "code",
   "execution_count": 404,
   "metadata": {},
   "outputs": [],
   "source": [
    "df = df[df[\"Rate\"] != \"No Rate\"]"
   ]
  },
  {
   "attachments": {},
   "cell_type": "markdown",
   "metadata": {},
   "source": [
    "### 2.1.2. Cột Duration"
   ]
  },
  {
   "cell_type": "code",
   "execution_count": 405,
   "metadata": {},
   "outputs": [
    {
     "data": {
      "text/plain": [
       "Index(['100 ', '101 ', '102 ', '103 ', '104 ', '105 ', '106 ', '107 ', '108 ',\n",
       "       '109 ',\n",
       "       ...\n",
       "       '91 ', '92 ', '93 ', '94 ', '95 ', '96 ', '97 ', '98 ', '99 ', 'None'],\n",
       "      dtype='object', length=150)"
      ]
     },
     "execution_count": 405,
     "metadata": {},
     "output_type": "execute_result"
    }
   ],
   "source": [
    "df[\"Duration\"].value_counts().sort_index().index"
   ]
  },
  {
   "cell_type": "code",
   "execution_count": 406,
   "metadata": {},
   "outputs": [
    {
     "data": {
      "text/html": [
       "<div>\n",
       "<style scoped>\n",
       "    .dataframe tbody tr th:only-of-type {\n",
       "        vertical-align: middle;\n",
       "    }\n",
       "\n",
       "    .dataframe tbody tr th {\n",
       "        vertical-align: top;\n",
       "    }\n",
       "\n",
       "    .dataframe thead th {\n",
       "        text-align: right;\n",
       "    }\n",
       "</style>\n",
       "<table border=\"1\" class=\"dataframe\">\n",
       "  <thead>\n",
       "    <tr style=\"text-align: right;\">\n",
       "      <th></th>\n",
       "      <th>Name</th>\n",
       "      <th>Date</th>\n",
       "      <th>Rate</th>\n",
       "      <th>Votes</th>\n",
       "      <th>Genre</th>\n",
       "      <th>Duration</th>\n",
       "      <th>Certificate</th>\n",
       "      <th>Nudity</th>\n",
       "      <th>Violence</th>\n",
       "      <th>Profanity</th>\n",
       "      <th>Alcohol</th>\n",
       "      <th>Frightening</th>\n",
       "    </tr>\n",
       "  </thead>\n",
       "  <tbody>\n",
       "    <tr>\n",
       "      <th>241</th>\n",
       "      <td>Hotel Transylvania: Transformania</td>\n",
       "      <td>2022</td>\n",
       "      <td>6.9</td>\n",
       "      <td>316</td>\n",
       "      <td>Animation, Adventure, Comedy</td>\n",
       "      <td>None</td>\n",
       "      <td>PG</td>\n",
       "      <td>None</td>\n",
       "      <td>Severe</td>\n",
       "      <td>Severe</td>\n",
       "      <td>Severe</td>\n",
       "      <td>Severe</td>\n",
       "    </tr>\n",
       "    <tr>\n",
       "      <th>1915</th>\n",
       "      <td>Unaired Game of Thrones Prequel Pilot</td>\n",
       "      <td>2019</td>\n",
       "      <td>6.6</td>\n",
       "      <td>90</td>\n",
       "      <td>Fantasy</td>\n",
       "      <td>None</td>\n",
       "      <td>None</td>\n",
       "      <td>No Rate</td>\n",
       "      <td>No Rate</td>\n",
       "      <td>No Rate</td>\n",
       "      <td>No Rate</td>\n",
       "      <td>No Rate</td>\n",
       "    </tr>\n",
       "    <tr>\n",
       "      <th>5008</th>\n",
       "      <td>My Struggle</td>\n",
       "      <td>2021</td>\n",
       "      <td>8.7</td>\n",
       "      <td>74</td>\n",
       "      <td>Biography</td>\n",
       "      <td>None</td>\n",
       "      <td>None</td>\n",
       "      <td>No Rate</td>\n",
       "      <td>No Rate</td>\n",
       "      <td>No Rate</td>\n",
       "      <td>No Rate</td>\n",
       "      <td>No Rate</td>\n",
       "    </tr>\n",
       "    <tr>\n",
       "      <th>6158</th>\n",
       "      <td>My Struggle</td>\n",
       "      <td>2021</td>\n",
       "      <td>8.7</td>\n",
       "      <td>74</td>\n",
       "      <td>Biography</td>\n",
       "      <td>None</td>\n",
       "      <td>None</td>\n",
       "      <td>No Rate</td>\n",
       "      <td>No Rate</td>\n",
       "      <td>No Rate</td>\n",
       "      <td>No Rate</td>\n",
       "      <td>No Rate</td>\n",
       "    </tr>\n",
       "  </tbody>\n",
       "</table>\n",
       "</div>"
      ],
      "text/plain": [
       "                                       Name  Date Rate Votes  \\\n",
       "241       Hotel Transylvania: Transformania  2022  6.9   316   \n",
       "1915  Unaired Game of Thrones Prequel Pilot  2019  6.6    90   \n",
       "5008                            My Struggle  2021  8.7    74   \n",
       "6158                            My Struggle  2021  8.7    74   \n",
       "\n",
       "                             Genre Duration Certificate   Nudity Violence  \\\n",
       "241   Animation, Adventure, Comedy     None          PG     None   Severe   \n",
       "1915                       Fantasy     None        None  No Rate  No Rate   \n",
       "5008                     Biography     None        None  No Rate  No Rate   \n",
       "6158                     Biography     None        None  No Rate  No Rate   \n",
       "\n",
       "     Profanity  Alcohol Frightening  \n",
       "241     Severe   Severe      Severe  \n",
       "1915   No Rate  No Rate     No Rate  \n",
       "5008   No Rate  No Rate     No Rate  \n",
       "6158   No Rate  No Rate     No Rate  "
      ]
     },
     "execution_count": 406,
     "metadata": {},
     "output_type": "execute_result"
    }
   ],
   "source": [
    "df[df[\"Duration\"] == \"None\"]"
   ]
  },
  {
   "attachments": {},
   "cell_type": "markdown",
   "metadata": {},
   "source": [
    "Cột `Duration` chỉ có 4 giá trị `None`. Nhóm quyết định xóa các dòng này"
   ]
  },
  {
   "cell_type": "code",
   "execution_count": 407,
   "metadata": {},
   "outputs": [],
   "source": [
    "df = df[df[\"Duration\"] != \"None\"]"
   ]
  },
  {
   "attachments": {},
   "cell_type": "markdown",
   "metadata": {},
   "source": [
    "### 2.1.3. Cột Certificate"
   ]
  },
  {
   "cell_type": "code",
   "execution_count": 408,
   "metadata": {},
   "outputs": [
    {
     "data": {
      "text/plain": [
       "R            1873\n",
       "PG-13        1132\n",
       "PG            523\n",
       "Not Rated     189\n",
       "None          179\n",
       "TV-MA         109\n",
       "G              70\n",
       "Approved       42\n",
       "Unrated        40\n",
       "TV-14          35\n",
       "Passed         24\n",
       "NC-17          14\n",
       "TV-PG          13\n",
       "E              12\n",
       "(Banned)       10\n",
       "TV-G           10\n",
       "GP              6\n",
       "X               6\n",
       "TV-Y7           5\n",
       "M               3\n",
       "M/PG            2\n",
       "Name: Certificate, dtype: int64"
      ]
     },
     "execution_count": 408,
     "metadata": {},
     "output_type": "execute_result"
    }
   ],
   "source": [
    "df[\"Certificate\"].value_counts()"
   ]
  },
  {
   "cell_type": "code",
   "execution_count": 409,
   "metadata": {},
   "outputs": [
    {
     "data": {
      "text/html": [
       "<div>\n",
       "<style scoped>\n",
       "    .dataframe tbody tr th:only-of-type {\n",
       "        vertical-align: middle;\n",
       "    }\n",
       "\n",
       "    .dataframe tbody tr th {\n",
       "        vertical-align: top;\n",
       "    }\n",
       "\n",
       "    .dataframe thead th {\n",
       "        text-align: right;\n",
       "    }\n",
       "</style>\n",
       "<table border=\"1\" class=\"dataframe\">\n",
       "  <thead>\n",
       "    <tr style=\"text-align: right;\">\n",
       "      <th></th>\n",
       "      <th>Name</th>\n",
       "      <th>Date</th>\n",
       "      <th>Rate</th>\n",
       "      <th>Votes</th>\n",
       "      <th>Genre</th>\n",
       "      <th>Duration</th>\n",
       "      <th>Certificate</th>\n",
       "      <th>Nudity</th>\n",
       "      <th>Violence</th>\n",
       "      <th>Profanity</th>\n",
       "      <th>Alcohol</th>\n",
       "      <th>Frightening</th>\n",
       "    </tr>\n",
       "  </thead>\n",
       "  <tbody>\n",
       "    <tr>\n",
       "      <th>237</th>\n",
       "      <td>Busanhaeng</td>\n",
       "      <td>2016</td>\n",
       "      <td>7.6</td>\n",
       "      <td>190,528</td>\n",
       "      <td>Action, Horror, Thriller</td>\n",
       "      <td>118</td>\n",
       "      <td>Not Rated</td>\n",
       "      <td>None</td>\n",
       "      <td>Severe</td>\n",
       "      <td>Mild</td>\n",
       "      <td>None</td>\n",
       "      <td>Severe</td>\n",
       "    </tr>\n",
       "    <tr>\n",
       "      <th>266</th>\n",
       "      <td>Batoru rowaiaru</td>\n",
       "      <td>2000</td>\n",
       "      <td>7.6</td>\n",
       "      <td>176,302</td>\n",
       "      <td>Action, Adventure, Drama</td>\n",
       "      <td>114</td>\n",
       "      <td>Not Rated</td>\n",
       "      <td>Mild</td>\n",
       "      <td>Severe</td>\n",
       "      <td>Mild</td>\n",
       "      <td>Mild</td>\n",
       "      <td>Severe</td>\n",
       "    </tr>\n",
       "    <tr>\n",
       "      <th>310</th>\n",
       "      <td>Black as Night</td>\n",
       "      <td>2021</td>\n",
       "      <td>3.9</td>\n",
       "      <td>1,087</td>\n",
       "      <td>Drama, Horror, Thriller</td>\n",
       "      <td>87</td>\n",
       "      <td>Not Rated</td>\n",
       "      <td>None</td>\n",
       "      <td>Mild</td>\n",
       "      <td>Moderate</td>\n",
       "      <td>Moderate</td>\n",
       "      <td>Moderate</td>\n",
       "    </tr>\n",
       "    <tr>\n",
       "      <th>340</th>\n",
       "      <td>Rakka</td>\n",
       "      <td>2017</td>\n",
       "      <td>7.4</td>\n",
       "      <td>7,037</td>\n",
       "      <td>Short, Horror, Sci-Fi</td>\n",
       "      <td>22</td>\n",
       "      <td>Not Rated</td>\n",
       "      <td>No Rate</td>\n",
       "      <td>Severe</td>\n",
       "      <td>Moderate</td>\n",
       "      <td>Mild</td>\n",
       "      <td>No Rate</td>\n",
       "    </tr>\n",
       "    <tr>\n",
       "      <th>351</th>\n",
       "      <td>The Manor</td>\n",
       "      <td>2021</td>\n",
       "      <td>5.3</td>\n",
       "      <td>1,677</td>\n",
       "      <td>Horror</td>\n",
       "      <td>81</td>\n",
       "      <td>Not Rated</td>\n",
       "      <td>None</td>\n",
       "      <td>None</td>\n",
       "      <td>Mild</td>\n",
       "      <td>None</td>\n",
       "      <td>Mild</td>\n",
       "    </tr>\n",
       "    <tr>\n",
       "      <th>...</th>\n",
       "      <td>...</td>\n",
       "      <td>...</td>\n",
       "      <td>...</td>\n",
       "      <td>...</td>\n",
       "      <td>...</td>\n",
       "      <td>...</td>\n",
       "      <td>...</td>\n",
       "      <td>...</td>\n",
       "      <td>...</td>\n",
       "      <td>...</td>\n",
       "      <td>...</td>\n",
       "      <td>...</td>\n",
       "    </tr>\n",
       "    <tr>\n",
       "      <th>6109</th>\n",
       "      <td>Anatomy of a Murder</td>\n",
       "      <td>1959</td>\n",
       "      <td>8.0</td>\n",
       "      <td>63,564</td>\n",
       "      <td>Drama, Mystery</td>\n",
       "      <td>161</td>\n",
       "      <td>Not Rated</td>\n",
       "      <td>None</td>\n",
       "      <td>Mild</td>\n",
       "      <td>Mild</td>\n",
       "      <td>Mild</td>\n",
       "      <td>Mild</td>\n",
       "    </tr>\n",
       "    <tr>\n",
       "      <th>6149</th>\n",
       "      <td>Brawl in Cell Block 99</td>\n",
       "      <td>2017</td>\n",
       "      <td>7.2</td>\n",
       "      <td>62,894</td>\n",
       "      <td>Action, Crime, Drama</td>\n",
       "      <td>132</td>\n",
       "      <td>Not Rated</td>\n",
       "      <td>Mild</td>\n",
       "      <td>Severe</td>\n",
       "      <td>Moderate</td>\n",
       "      <td>Mild</td>\n",
       "      <td>Severe</td>\n",
       "    </tr>\n",
       "    <tr>\n",
       "      <th>6154</th>\n",
       "      <td>Dalkomhan insaeng</td>\n",
       "      <td>2005</td>\n",
       "      <td>7.5</td>\n",
       "      <td>38,677</td>\n",
       "      <td>Action, Crime, Drama</td>\n",
       "      <td>119</td>\n",
       "      <td>Not Rated</td>\n",
       "      <td>None</td>\n",
       "      <td>Severe</td>\n",
       "      <td>Severe</td>\n",
       "      <td>Mild</td>\n",
       "      <td>Moderate</td>\n",
       "    </tr>\n",
       "    <tr>\n",
       "      <th>6171</th>\n",
       "      <td>Chugyeokja</td>\n",
       "      <td>2008</td>\n",
       "      <td>7.8</td>\n",
       "      <td>62,423</td>\n",
       "      <td>Action, Crime, Thriller</td>\n",
       "      <td>125</td>\n",
       "      <td>Not Rated</td>\n",
       "      <td>Mild</td>\n",
       "      <td>Severe</td>\n",
       "      <td>Moderate</td>\n",
       "      <td>Mild</td>\n",
       "      <td>Severe</td>\n",
       "    </tr>\n",
       "    <tr>\n",
       "      <th>6173</th>\n",
       "      <td>The Human Centipede II (Full Sequence)</td>\n",
       "      <td>2011</td>\n",
       "      <td>3.8</td>\n",
       "      <td>37,492</td>\n",
       "      <td>Horror</td>\n",
       "      <td>91</td>\n",
       "      <td>Not Rated</td>\n",
       "      <td>Severe</td>\n",
       "      <td>Severe</td>\n",
       "      <td>Severe</td>\n",
       "      <td>Mild</td>\n",
       "      <td>Severe</td>\n",
       "    </tr>\n",
       "  </tbody>\n",
       "</table>\n",
       "<p>189 rows × 12 columns</p>\n",
       "</div>"
      ],
      "text/plain": [
       "                                        Name  Date Rate    Votes  \\\n",
       "237                               Busanhaeng  2016  7.6  190,528   \n",
       "266                          Batoru rowaiaru  2000  7.6  176,302   \n",
       "310                           Black as Night  2021  3.9    1,087   \n",
       "340                                    Rakka  2017  7.4    7,037   \n",
       "351                                The Manor  2021  5.3    1,677   \n",
       "...                                      ...   ...  ...      ...   \n",
       "6109                     Anatomy of a Murder  1959  8.0   63,564   \n",
       "6149                  Brawl in Cell Block 99  2017  7.2   62,894   \n",
       "6154                       Dalkomhan insaeng  2005  7.5   38,677   \n",
       "6171                              Chugyeokja  2008  7.8   62,423   \n",
       "6173  The Human Centipede II (Full Sequence)  2011  3.8   37,492   \n",
       "\n",
       "                         Genre Duration Certificate   Nudity Violence  \\\n",
       "237   Action, Horror, Thriller     118    Not Rated     None   Severe   \n",
       "266   Action, Adventure, Drama     114    Not Rated     Mild   Severe   \n",
       "310    Drama, Horror, Thriller      87    Not Rated     None     Mild   \n",
       "340      Short, Horror, Sci-Fi      22    Not Rated  No Rate   Severe   \n",
       "351                     Horror      81    Not Rated     None     None   \n",
       "...                        ...      ...         ...      ...      ...   \n",
       "6109            Drama, Mystery     161    Not Rated     None     Mild   \n",
       "6149      Action, Crime, Drama     132    Not Rated     Mild   Severe   \n",
       "6154      Action, Crime, Drama     119    Not Rated     None   Severe   \n",
       "6171   Action, Crime, Thriller     125    Not Rated     Mild   Severe   \n",
       "6173                    Horror      91    Not Rated   Severe   Severe   \n",
       "\n",
       "     Profanity   Alcohol Frightening  \n",
       "237       Mild      None      Severe  \n",
       "266       Mild      Mild      Severe  \n",
       "310   Moderate  Moderate    Moderate  \n",
       "340   Moderate      Mild     No Rate  \n",
       "351       Mild      None        Mild  \n",
       "...        ...       ...         ...  \n",
       "6109      Mild      Mild        Mild  \n",
       "6149  Moderate      Mild      Severe  \n",
       "6154    Severe      Mild    Moderate  \n",
       "6171  Moderate      Mild      Severe  \n",
       "6173    Severe      Mild      Severe  \n",
       "\n",
       "[189 rows x 12 columns]"
      ]
     },
     "execution_count": 409,
     "metadata": {},
     "output_type": "execute_result"
    }
   ],
   "source": [
    "df[df[\"Certificate\"] == \"Not Rated\"]"
   ]
  },
  {
   "attachments": {},
   "cell_type": "markdown",
   "metadata": {},
   "source": [
    "Quan sát các dòng chứa giá trị `\"Not Rated\"` ở cột `\"Certificate\"`, nhóm nhận thấy ở các cột khác tương đối đủ giá trị, do đó nhóm quyết định giữ lại các dòng này, ý nghĩa của giá trị `\"Not Rated\"` sẽ được quyết định sau "
   ]
  },
  {
   "cell_type": "code",
   "execution_count": 410,
   "metadata": {},
   "outputs": [
    {
     "data": {
      "text/plain": [
       "Nudity   Violence  Profanity  Alcohol  Frightening\n",
       "No Rate  No Rate   No Rate    No Rate  No Rate        179\n",
       "dtype: int64"
      ]
     },
     "execution_count": 410,
     "metadata": {},
     "output_type": "execute_result"
    }
   ],
   "source": [
    "df[df[\"Certificate\"] == \"None\"][[\"Nudity\", \"Violence\", \"Profanity\", \"Alcohol\", \"Frightening\"]].value_counts()"
   ]
  },
  {
   "attachments": {},
   "cell_type": "markdown",
   "metadata": {},
   "source": [
    "Quan sát các dòng chứa giá trị `\"None\"` ở cột `\"Certificate\"`, nhóm nhận thấy các cột đánh giá như `\"Nudity\"`, `\"Violence\"` đều mang giá trị `\"No Rate\"`. Do đó các dòng này có thể xem như dữ liệu khuyết của cột `\"Certificate\"`, nhóm quyết định xóa bỏ các dòng này"
   ]
  },
  {
   "cell_type": "code",
   "execution_count": 411,
   "metadata": {},
   "outputs": [],
   "source": [
    "df = df[df[\"Certificate\"] != \"None\"]"
   ]
  },
  {
   "attachments": {},
   "cell_type": "markdown",
   "metadata": {},
   "source": [
    "### 2.1.4. Các cột đánh giá `\"Nudity\"`, `\"Violence\"`, `\"Profanity\"`, `\"Alcohol\"`, `\"Frightening\"`"
   ]
  },
  {
   "cell_type": "code",
   "execution_count": 412,
   "metadata": {},
   "outputs": [
    {
     "data": {
      "text/html": [
       "<div>\n",
       "<style scoped>\n",
       "    .dataframe tbody tr th:only-of-type {\n",
       "        vertical-align: middle;\n",
       "    }\n",
       "\n",
       "    .dataframe tbody tr th {\n",
       "        vertical-align: top;\n",
       "    }\n",
       "\n",
       "    .dataframe thead th {\n",
       "        text-align: right;\n",
       "    }\n",
       "</style>\n",
       "<table border=\"1\" class=\"dataframe\">\n",
       "  <thead>\n",
       "    <tr style=\"text-align: right;\">\n",
       "      <th></th>\n",
       "      <th>Nudity</th>\n",
       "      <th>Violence</th>\n",
       "      <th>Profanity</th>\n",
       "      <th>Alcohol</th>\n",
       "      <th>Frightening</th>\n",
       "    </tr>\n",
       "  </thead>\n",
       "  <tbody>\n",
       "    <tr>\n",
       "      <th>57</th>\n",
       "      <td>None</td>\n",
       "      <td>Severe</td>\n",
       "      <td>Severe</td>\n",
       "      <td>No Rate</td>\n",
       "      <td>Severe</td>\n",
       "    </tr>\n",
       "    <tr>\n",
       "      <th>194</th>\n",
       "      <td>No Rate</td>\n",
       "      <td>Moderate</td>\n",
       "      <td>Moderate</td>\n",
       "      <td>Mild</td>\n",
       "      <td>Moderate</td>\n",
       "    </tr>\n",
       "    <tr>\n",
       "      <th>223</th>\n",
       "      <td>No Rate</td>\n",
       "      <td>No Rate</td>\n",
       "      <td>No Rate</td>\n",
       "      <td>No Rate</td>\n",
       "      <td>No Rate</td>\n",
       "    </tr>\n",
       "    <tr>\n",
       "      <th>235</th>\n",
       "      <td>No Rate</td>\n",
       "      <td>No Rate</td>\n",
       "      <td>No Rate</td>\n",
       "      <td>No Rate</td>\n",
       "      <td>No Rate</td>\n",
       "    </tr>\n",
       "    <tr>\n",
       "      <th>340</th>\n",
       "      <td>No Rate</td>\n",
       "      <td>Severe</td>\n",
       "      <td>Moderate</td>\n",
       "      <td>Mild</td>\n",
       "      <td>No Rate</td>\n",
       "    </tr>\n",
       "    <tr>\n",
       "      <th>...</th>\n",
       "      <td>...</td>\n",
       "      <td>...</td>\n",
       "      <td>...</td>\n",
       "      <td>...</td>\n",
       "      <td>...</td>\n",
       "    </tr>\n",
       "    <tr>\n",
       "      <th>5785</th>\n",
       "      <td>No Rate</td>\n",
       "      <td>No Rate</td>\n",
       "      <td>No Rate</td>\n",
       "      <td>No Rate</td>\n",
       "      <td>No Rate</td>\n",
       "    </tr>\n",
       "    <tr>\n",
       "      <th>5798</th>\n",
       "      <td>Mild</td>\n",
       "      <td>Moderate</td>\n",
       "      <td>Mild</td>\n",
       "      <td>No Rate</td>\n",
       "      <td>Moderate</td>\n",
       "    </tr>\n",
       "    <tr>\n",
       "      <th>5959</th>\n",
       "      <td>No Rate</td>\n",
       "      <td>No Rate</td>\n",
       "      <td>No Rate</td>\n",
       "      <td>No Rate</td>\n",
       "      <td>No Rate</td>\n",
       "    </tr>\n",
       "    <tr>\n",
       "      <th>6078</th>\n",
       "      <td>No Rate</td>\n",
       "      <td>No Rate</td>\n",
       "      <td>No Rate</td>\n",
       "      <td>No Rate</td>\n",
       "      <td>No Rate</td>\n",
       "    </tr>\n",
       "    <tr>\n",
       "      <th>6099</th>\n",
       "      <td>Severe</td>\n",
       "      <td>No Rate</td>\n",
       "      <td>No Rate</td>\n",
       "      <td>No Rate</td>\n",
       "      <td>No Rate</td>\n",
       "    </tr>\n",
       "  </tbody>\n",
       "</table>\n",
       "<p>118 rows × 5 columns</p>\n",
       "</div>"
      ],
      "text/plain": [
       "       Nudity  Violence Profanity  Alcohol Frightening\n",
       "57       None    Severe    Severe  No Rate      Severe\n",
       "194   No Rate  Moderate  Moderate     Mild    Moderate\n",
       "223   No Rate   No Rate   No Rate  No Rate     No Rate\n",
       "235   No Rate   No Rate   No Rate  No Rate     No Rate\n",
       "340   No Rate    Severe  Moderate     Mild     No Rate\n",
       "...       ...       ...       ...      ...         ...\n",
       "5785  No Rate   No Rate   No Rate  No Rate     No Rate\n",
       "5798     Mild  Moderate      Mild  No Rate    Moderate\n",
       "5959  No Rate   No Rate   No Rate  No Rate     No Rate\n",
       "6078  No Rate   No Rate   No Rate  No Rate     No Rate\n",
       "6099   Severe   No Rate   No Rate  No Rate     No Rate\n",
       "\n",
       "[118 rows x 5 columns]"
      ]
     },
     "execution_count": 412,
     "metadata": {},
     "output_type": "execute_result"
    }
   ],
   "source": [
    "df[(df[\"Nudity\"] == \"No Rate\") \n",
    "   | (df[\"Violence\"] == \"No Rate\") \n",
    "   | (df[\"Profanity\"] == \"No Rate\") \n",
    "   | (df[\"Alcohol\"] == \"No Rate\") \n",
    "   | (df[\"Frightening\"] == \"No Rate\")\n",
    "][\n",
    "    [\"Nudity\", \"Violence\", \"Profanity\", \"Alcohol\", \"Frightening\"]\n",
    "]"
   ]
  },
  {
   "attachments": {},
   "cell_type": "markdown",
   "metadata": {},
   "source": [
    "Các giá trị `\"No Rate\"` của các cột đánh giá thường xuất hiện cùng nhau. Sau khi thống nhất, nhóm quyết định xoá tất cả các dòng có giá trị `No Rate` ở 1 trong 5 cột này"
   ]
  },
  {
   "cell_type": "code",
   "execution_count": 413,
   "metadata": {},
   "outputs": [],
   "source": [
    "df = df[~((df[\"Nudity\"] == \"No Rate\") \n",
    "   | (df[\"Violence\"] == \"No Rate\") \n",
    "   | (df[\"Profanity\"] == \"No Rate\") \n",
    "   | (df[\"Alcohol\"] == \"No Rate\") \n",
    "   | (df[\"Frightening\"] == \"No Rate\"))\n",
    "]"
   ]
  },
  {
   "attachments": {},
   "cell_type": "markdown",
   "metadata": {},
   "source": [
    "## 2.2. Duplicated value"
   ]
  },
  {
   "cell_type": "code",
   "execution_count": 414,
   "metadata": {},
   "outputs": [
    {
     "data": {
      "text/html": [
       "<div>\n",
       "<style scoped>\n",
       "    .dataframe tbody tr th:only-of-type {\n",
       "        vertical-align: middle;\n",
       "    }\n",
       "\n",
       "    .dataframe tbody tr th {\n",
       "        vertical-align: top;\n",
       "    }\n",
       "\n",
       "    .dataframe thead th {\n",
       "        text-align: right;\n",
       "    }\n",
       "</style>\n",
       "<table border=\"1\" class=\"dataframe\">\n",
       "  <thead>\n",
       "    <tr style=\"text-align: right;\">\n",
       "      <th></th>\n",
       "      <th>Name</th>\n",
       "      <th>Date</th>\n",
       "      <th>Rate</th>\n",
       "      <th>Votes</th>\n",
       "      <th>Genre</th>\n",
       "      <th>Duration</th>\n",
       "      <th>Certificate</th>\n",
       "      <th>Nudity</th>\n",
       "      <th>Violence</th>\n",
       "      <th>Profanity</th>\n",
       "      <th>Alcohol</th>\n",
       "      <th>Frightening</th>\n",
       "    </tr>\n",
       "  </thead>\n",
       "  <tbody>\n",
       "    <tr>\n",
       "      <th>5755</th>\n",
       "      <td>10</td>\n",
       "      <td>1979</td>\n",
       "      <td>6.1</td>\n",
       "      <td>17,216</td>\n",
       "      <td>Comedy, Romance</td>\n",
       "      <td>122</td>\n",
       "      <td>R</td>\n",
       "      <td>Severe</td>\n",
       "      <td>None</td>\n",
       "      <td>Mild</td>\n",
       "      <td>Moderate</td>\n",
       "      <td>None</td>\n",
       "    </tr>\n",
       "    <tr>\n",
       "      <th>4605</th>\n",
       "      <td>10</td>\n",
       "      <td>1979</td>\n",
       "      <td>6.1</td>\n",
       "      <td>17,216</td>\n",
       "      <td>Comedy, Romance</td>\n",
       "      <td>122</td>\n",
       "      <td>R</td>\n",
       "      <td>Severe</td>\n",
       "      <td>None</td>\n",
       "      <td>Mild</td>\n",
       "      <td>Moderate</td>\n",
       "      <td>None</td>\n",
       "    </tr>\n",
       "    <tr>\n",
       "      <th>4505</th>\n",
       "      <td>10 Years</td>\n",
       "      <td>2011</td>\n",
       "      <td>6.1</td>\n",
       "      <td>25,016</td>\n",
       "      <td>Comedy, Drama, Romance</td>\n",
       "      <td>110</td>\n",
       "      <td>PG-13</td>\n",
       "      <td>Mild</td>\n",
       "      <td>None</td>\n",
       "      <td>Mild</td>\n",
       "      <td>Mild</td>\n",
       "      <td>None</td>\n",
       "    </tr>\n",
       "    <tr>\n",
       "      <th>5655</th>\n",
       "      <td>10 Years</td>\n",
       "      <td>2011</td>\n",
       "      <td>6.1</td>\n",
       "      <td>25,016</td>\n",
       "      <td>Comedy, Drama, Romance</td>\n",
       "      <td>110</td>\n",
       "      <td>PG-13</td>\n",
       "      <td>Mild</td>\n",
       "      <td>None</td>\n",
       "      <td>Mild</td>\n",
       "      <td>Mild</td>\n",
       "      <td>None</td>\n",
       "    </tr>\n",
       "    <tr>\n",
       "      <th>4133</th>\n",
       "      <td>12 Strong</td>\n",
       "      <td>2018</td>\n",
       "      <td>6.6</td>\n",
       "      <td>74,061</td>\n",
       "      <td>Action, Drama, History</td>\n",
       "      <td>130</td>\n",
       "      <td>R</td>\n",
       "      <td>None</td>\n",
       "      <td>Severe</td>\n",
       "      <td>Moderate</td>\n",
       "      <td>Mild</td>\n",
       "      <td>Moderate</td>\n",
       "    </tr>\n",
       "    <tr>\n",
       "      <th>...</th>\n",
       "      <td>...</td>\n",
       "      <td>...</td>\n",
       "      <td>...</td>\n",
       "      <td>...</td>\n",
       "      <td>...</td>\n",
       "      <td>...</td>\n",
       "      <td>...</td>\n",
       "      <td>...</td>\n",
       "      <td>...</td>\n",
       "      <td>...</td>\n",
       "      <td>...</td>\n",
       "      <td>...</td>\n",
       "    </tr>\n",
       "    <tr>\n",
       "      <th>4359</th>\n",
       "      <td>À bout de souffle</td>\n",
       "      <td>1960</td>\n",
       "      <td>7.8</td>\n",
       "      <td>77,529</td>\n",
       "      <td>Crime, Drama</td>\n",
       "      <td>90</td>\n",
       "      <td>Not Rated</td>\n",
       "      <td>Mild</td>\n",
       "      <td>Mild</td>\n",
       "      <td>Moderate</td>\n",
       "      <td>Moderate</td>\n",
       "      <td>None</td>\n",
       "    </tr>\n",
       "    <tr>\n",
       "      <th>4799</th>\n",
       "      <td>À l'intérieur</td>\n",
       "      <td>2007</td>\n",
       "      <td>6.7</td>\n",
       "      <td>39,232</td>\n",
       "      <td>Horror</td>\n",
       "      <td>82</td>\n",
       "      <td>R</td>\n",
       "      <td>None</td>\n",
       "      <td>Severe</td>\n",
       "      <td>Moderate</td>\n",
       "      <td>Mild</td>\n",
       "      <td>Severe</td>\n",
       "    </tr>\n",
       "    <tr>\n",
       "      <th>5949</th>\n",
       "      <td>À l'intérieur</td>\n",
       "      <td>2007</td>\n",
       "      <td>6.7</td>\n",
       "      <td>39,232</td>\n",
       "      <td>Horror</td>\n",
       "      <td>82</td>\n",
       "      <td>R</td>\n",
       "      <td>None</td>\n",
       "      <td>Severe</td>\n",
       "      <td>Moderate</td>\n",
       "      <td>Mild</td>\n",
       "      <td>Severe</td>\n",
       "    </tr>\n",
       "    <tr>\n",
       "      <th>5955</th>\n",
       "      <td>Átame!</td>\n",
       "      <td>1989</td>\n",
       "      <td>7.0</td>\n",
       "      <td>27,688</td>\n",
       "      <td>Comedy, Crime, Drama</td>\n",
       "      <td>101</td>\n",
       "      <td>NC-17</td>\n",
       "      <td>Moderate</td>\n",
       "      <td>Moderate</td>\n",
       "      <td>Moderate</td>\n",
       "      <td>Moderate</td>\n",
       "      <td>Mild</td>\n",
       "    </tr>\n",
       "    <tr>\n",
       "      <th>4805</th>\n",
       "      <td>Átame!</td>\n",
       "      <td>1989</td>\n",
       "      <td>7.0</td>\n",
       "      <td>27,688</td>\n",
       "      <td>Comedy, Crime, Drama</td>\n",
       "      <td>101</td>\n",
       "      <td>NC-17</td>\n",
       "      <td>Moderate</td>\n",
       "      <td>Moderate</td>\n",
       "      <td>Moderate</td>\n",
       "      <td>Moderate</td>\n",
       "      <td>Mild</td>\n",
       "    </tr>\n",
       "  </tbody>\n",
       "</table>\n",
       "<p>1550 rows × 12 columns</p>\n",
       "</div>"
      ],
      "text/plain": [
       "                   Name  Date Rate   Votes                   Genre Duration  \\\n",
       "5755                 10  1979  6.1  17,216         Comedy, Romance     122    \n",
       "4605                 10  1979  6.1  17,216         Comedy, Romance     122    \n",
       "4505           10 Years  2011  6.1  25,016  Comedy, Drama, Romance     110    \n",
       "5655           10 Years  2011  6.1  25,016  Comedy, Drama, Romance     110    \n",
       "4133          12 Strong  2018  6.6  74,061  Action, Drama, History     130    \n",
       "...                 ...   ...  ...     ...                     ...      ...   \n",
       "4359  À bout de souffle  1960  7.8  77,529            Crime, Drama      90    \n",
       "4799      À l'intérieur  2007  6.7  39,232                  Horror      82    \n",
       "5949      À l'intérieur  2007  6.7  39,232                  Horror      82    \n",
       "5955             Átame!  1989  7.0  27,688    Comedy, Crime, Drama     101    \n",
       "4805             Átame!  1989  7.0  27,688    Comedy, Crime, Drama     101    \n",
       "\n",
       "     Certificate    Nudity  Violence Profanity   Alcohol Frightening  \n",
       "5755           R    Severe      None      Mild  Moderate        None  \n",
       "4605           R    Severe      None      Mild  Moderate        None  \n",
       "4505       PG-13      Mild      None      Mild      Mild        None  \n",
       "5655       PG-13      Mild      None      Mild      Mild        None  \n",
       "4133           R      None    Severe  Moderate      Mild    Moderate  \n",
       "...          ...       ...       ...       ...       ...         ...  \n",
       "4359   Not Rated      Mild      Mild  Moderate  Moderate        None  \n",
       "4799           R      None    Severe  Moderate      Mild      Severe  \n",
       "5949           R      None    Severe  Moderate      Mild      Severe  \n",
       "5955       NC-17  Moderate  Moderate  Moderate  Moderate        Mild  \n",
       "4805       NC-17  Moderate  Moderate  Moderate  Moderate        Mild  \n",
       "\n",
       "[1550 rows x 12 columns]"
      ]
     },
     "execution_count": 414,
     "metadata": {},
     "output_type": "execute_result"
    }
   ],
   "source": [
    "df[df.duplicated(keep = False)].sort_values(\"Name\")"
   ]
  },
  {
   "cell_type": "code",
   "execution_count": 415,
   "metadata": {},
   "outputs": [
    {
     "data": {
      "text/plain": [
       "775"
      ]
     },
     "execution_count": 415,
     "metadata": {},
     "output_type": "execute_result"
    }
   ],
   "source": [
    "df.duplicated().sum()"
   ]
  },
  {
   "attachments": {},
   "cell_type": "markdown",
   "metadata": {},
   "source": [
    "Dữ liệu có 782 dòng bị trùng lắp, nhóm quyết định xóa các dòng này"
   ]
  },
  {
   "cell_type": "code",
   "execution_count": 416,
   "metadata": {},
   "outputs": [],
   "source": [
    "df = df.drop_duplicates()"
   ]
  },
  {
   "attachments": {},
   "cell_type": "markdown",
   "metadata": {},
   "source": [
    "## 2.3. Điều chỉnh kiểu dữ liệu của các cột"
   ]
  },
  {
   "cell_type": "code",
   "execution_count": 417,
   "metadata": {},
   "outputs": [
    {
     "name": "stdout",
     "output_type": "stream",
     "text": [
      "<class 'pandas.core.frame.DataFrame'>\n",
      "Int64Index: 3225 entries, 0 to 5027\n",
      "Data columns (total 12 columns):\n",
      " #   Column       Non-Null Count  Dtype \n",
      "---  ------       --------------  ----- \n",
      " 0   Name         3225 non-null   object\n",
      " 1   Date         3225 non-null   int64 \n",
      " 2   Rate         3225 non-null   object\n",
      " 3   Votes        3225 non-null   object\n",
      " 4   Genre        3225 non-null   object\n",
      " 5   Duration     3225 non-null   object\n",
      " 6   Certificate  3225 non-null   object\n",
      " 7   Nudity       3225 non-null   object\n",
      " 8   Violence     3225 non-null   object\n",
      " 9   Profanity    3225 non-null   object\n",
      " 10  Alcohol      3225 non-null   object\n",
      " 11  Frightening  3225 non-null   object\n",
      "dtypes: int64(1), object(11)\n",
      "memory usage: 327.5+ KB\n"
     ]
    }
   ],
   "source": [
    "df.info()"
   ]
  },
  {
   "attachments": {},
   "cell_type": "markdown",
   "metadata": {},
   "source": [
    "Nhóm nhận thấy một số cột có kiểu dữ liệu chưa phù hợp:\n",
    "- `Rate`: object -> cần chuyển thành float\n",
    "- `Votes`: object -> cần chuyển thành int64\n",
    "- `Duration`: object -> cần chuyển thành int64\n",
    "\n",
    "Ngoài ra còn cột `Date` biểu diễn năm phát hành của phim, hiện đang có kiểu dữ liệu int64. Do cột này chỉ chứa giá trị năm nên có thể để ở kiểu int64"
   ]
  },
  {
   "cell_type": "code",
   "execution_count": 418,
   "metadata": {},
   "outputs": [],
   "source": [
    "df[\"Rate\"] = df[\"Rate\"].astype(\"float\")"
   ]
  },
  {
   "cell_type": "code",
   "execution_count": 419,
   "metadata": {},
   "outputs": [],
   "source": [
    "df[\"Votes\"] = df[\"Votes\"].str.replace(\",\",\"\").astype(\"int64\")"
   ]
  },
  {
   "cell_type": "code",
   "execution_count": 420,
   "metadata": {},
   "outputs": [],
   "source": [
    "df[\"Duration\"] = df[\"Duration\"].astype(\"int\")"
   ]
  },
  {
   "attachments": {},
   "cell_type": "markdown",
   "metadata": {},
   "source": [
    "## 2.4. Outlier"
   ]
  },
  {
   "attachments": {},
   "cell_type": "markdown",
   "metadata": {},
   "source": [
    "### 2.4.1. Các cột numerical"
   ]
  },
  {
   "cell_type": "code",
   "execution_count": 421,
   "metadata": {},
   "outputs": [
    {
     "data": {
      "image/png": "[encoded data removed]",
      "text/plain": [
       "<Figure size 1600x500 with 4 Axes>"
      ]
     },
     "metadata": {},
     "output_type": "display_data"
    }
   ],
   "source": [
    "fig, axes = plt.subplots(ncols = 4, figsize = (16, 5))\n",
    "fig.subplots_adjust(wspace = 0.4)\n",
    "\n",
    "\n",
    "\n",
    "for ax, feature in zip(axes, [\"Date\", \"Rate\", \"Duration\", \"Votes\"]):\n",
    "    sns.boxplot(df[feature], ax = ax)\n",
    "    ax.set_xlabel(feature)\n",
    "    ax.set_xticklabels([])\n",
    "\n",
    "plt.ticklabel_format(style='plain', axis='y')"
   ]
  },
  {
   "attachments": {},
   "cell_type": "markdown",
   "metadata": {},
   "source": [
    "- Đối với cột `Date`, các giá trị ngoại lai chủ yếu rơi vào nhóm các phim cũ ra mắt khoảng trước năm 1970. Do các phim này ra mắt đã lâu, nhóm quyết định xóa bỏ các dòng này.\n",
    "- Đối với cột `Rate`, các giá trị ngoại lai chủ yếu rơi vào nhóm các phim có rate thấp từ 2 tới 4 điểm. Tuy nhiên các giá trị ngoại lai này phân bố liên tục, nên nhóm sẽ giữ lại các giá trị này. Cùng lí do các giá trị ngoại lai phân bố liên tục, nhóm cũng sẽ giữ nguyên cột `Duration`.\n",
    "- Đối với cột `Votes`, các giá trị ngoại lai chủ yếu rơi vào nhóm các phim có lượng vote cao. Tuy các giá trị này nằm rất xa so với phần lớn dữ liệu, nhưng các phim được càng nhiều vote thì càng được nhiều người quan tâm, do đó nhóm cũng sẽ giữ lại các giá trị này."
   ]
  },
  {
   "cell_type": "code",
   "execution_count": 422,
   "metadata": {},
   "outputs": [],
   "source": [
    "dateq = np.quantile(df[\"Date\"], q = [0.25, 0.5, 0.75])\n",
    "date_threshold = dateq[0] - 1.5 * (dateq[2] - dateq[0])\n",
    "df = df[df[\"Date\"] >= date_threshold]"
   ]
  },
  {
   "attachments": {},
   "cell_type": "markdown",
   "metadata": {},
   "source": [
    "### 2.4.2. Các cột categorical"
   ]
  },
  {
   "cell_type": "code",
   "execution_count": 423,
   "metadata": {},
   "outputs": [
    {
     "data": {
      "text/plain": [
       "Action, Adventure, Sci-Fi       113\n",
       "Drama, Romance                  103\n",
       "Animation, Adventure, Comedy     99\n",
       "Drama                            92\n",
       "Comedy, Drama, Romance           91\n",
       "                               ... \n",
       "Action                            1\n",
       "Biography, Drama, Musical         1\n",
       "Animation, Drama, War             1\n",
       "Action, Horror, War               1\n",
       "Drama, Family, History            1\n",
       "Name: Genre, Length: 285, dtype: int64"
      ]
     },
     "execution_count": 423,
     "metadata": {},
     "output_type": "execute_result"
    }
   ],
   "source": [
    "df[\"Genre\"].value_counts()"
   ]
  },
  {
   "attachments": {},
   "cell_type": "markdown",
   "metadata": {},
   "source": [
    "Cột `Genre` không chứa các giá trị đơn mà mỗi dòng có thể chứa hơn 1 giá trị về thể loại của phim (vì một phim có thể thuộc đồng thời nhiều thể loại). Do đó cột này có tới 290 nhãn khác biệt, nhóm sẽ không can thiệp vào cột này"
   ]
  },
  {
   "cell_type": "code",
   "execution_count": 424,
   "metadata": {},
   "outputs": [
    {
     "data": {
      "text/plain": [
       "Text(0, 0.5, 'Count')"
      ]
     },
     "execution_count": 424,
     "metadata": {},
     "output_type": "execute_result"
    },
    {
     "data": {
      "image/png": "[encoded data removed]",
      "text/plain": [
       "<Figure size 1600x500 with 1 Axes>"
      ]
     },
     "metadata": {},
     "output_type": "display_data"
    }
   ],
   "source": [
    "plt.figure(figsize = (16, 5))\n",
    "ax = sns.barplot(df[\"Certificate\"].value_counts().reset_index(), x = \"index\", y = \"Certificate\")\n",
    "ax.set_xlabel(\"Certificate\")\n",
    "ax.set_ylabel(\"Count\")"
   ]
  },
  {
   "attachments": {},
   "cell_type": "markdown",
   "metadata": {},
   "source": [
    "Cột `Certificate` có khá nhiều giá trị ngoại lai, tuy nhiên ý nghĩa của các giá trị trong cột này sẽ được xử lí ở phần sau, tạm thời nhóm chưa can thiệp vào cột này"
   ]
  },
  {
   "cell_type": "code",
   "execution_count": 425,
   "metadata": {},
   "outputs": [
    {
     "data": {
      "text/plain": [
       "(0.0, 1.0, 0.0, 1.0)"
      ]
     },
     "execution_count": 425,
     "metadata": {},
     "output_type": "execute_result"
    },
    {
     "data": {
      "image/png": "[encoded data removed]",
      "text/plain": [
       "<Figure size 1200x800 with 6 Axes>"
      ]
     },
     "metadata": {},
     "output_type": "display_data"
    }
   ],
   "source": [
    "fig, axes = plt.subplots(nrows = 2, ncols = 3, figsize = (12, 8))\n",
    "fig.subplots_adjust(hspace = 0.5)\n",
    "\n",
    "palette = {\n",
    "    \"No Rate\" : \"C0\",\n",
    "    \"None\": \"C1\",\n",
    "    \"Moderate\": \"C2\",\n",
    "    \"Severe\": \"C3\",\n",
    "    \"Mild\": \"C4\"\n",
    "}\n",
    "\n",
    "stat = [\"Nudity\", \"Violence\", \"Profanity\", \"Alcohol\", \"Frightening\"]\n",
    "level = [\"None\", \"Mild\", \"Moderate\", \"Severe\"]\n",
    "\n",
    "for ax, feature in zip(axes.flatten(), stat):\n",
    "    sns.barplot(df[feature].value_counts().loc[level].reset_index(), x = \"index\", y = feature, ax = ax, palette = palette)\n",
    "    ax.set_title(feature)\n",
    "    ax.set_xlabel(\"\")\n",
    "    ax.set_ylabel(\"\")\n",
    "    ax.set_xticklabels(ax.get_xticklabels(), rotation = 45)\n",
    "\n",
    "axes[-1, -1].axis(\"off\")"
   ]
  },
  {
   "attachments": {},
   "cell_type": "markdown",
   "metadata": {},
   "source": [
    "Các cột đánh giá các yếu tố `Nudity`, `Violence`, `Profanity`, `Alcohol`, `Frightening` không có giá trị ngoại lai"
   ]
  },
  {
   "attachments": {},
   "cell_type": "markdown",
   "metadata": {},
   "source": [
    "## 2.5. Khảo sát sâu hơn cột `Certificate`"
   ]
  },
  {
   "cell_type": "code",
   "execution_count": 426,
   "metadata": {},
   "outputs": [
    {
     "data": {
      "text/plain": [
       "R            1481\n",
       "PG-13         914\n",
       "PG            398\n",
       "Not Rated     105\n",
       "TV-MA          76\n",
       "G              43\n",
       "Unrated        26\n",
       "TV-14          22\n",
       "NC-17          12\n",
       "E              10\n",
       "(Banned)       10\n",
       "TV-G            9\n",
       "TV-PG           9\n",
       "Approved        4\n",
       "GP              3\n",
       "X               3\n",
       "M               2\n",
       "TV-Y7           1\n",
       "M/PG            1\n",
       "Name: Certificate, dtype: int64"
      ]
     },
     "execution_count": 426,
     "metadata": {},
     "output_type": "execute_result"
    }
   ],
   "source": [
    "df[\"Certificate\"].value_counts()"
   ]
  },
  {
   "attachments": {},
   "cell_type": "markdown",
   "metadata": {},
   "source": [
    "Giải thích các giá trị của cột \"Certificate\"\n",
    "- `\"R\"`: Thanh thiếu niên dưới 18 tuổi không được xem phim nếu không có sự đồng ý của người lớn.\n",
    "- `\"PG-13\"`: Phim có một số chi tiết không phù hợp với trẻ từ 13 tuổi trở xuống\n",
    "- `\"PG\"`: Phim có thể có một số chi tiết (hình ảnh, từ ngữ) không phù hợp với trẻ nhỏ. Bố mẹ cần cân nhắc khi cho con cái xem phim.\n",
    "- `\"Not Rated\"`:  Chưa được kiểm duyệt, thường bởi vì có những cảnh nóng/bạo lực ở mức cao\n",
    "- `\"TV-MA\"`: Không phù hợp với thanh thiếu niên dưới 18 tuổi\n",
    "- `\"G\"`: Phù hợp với mọi lứa tuổi \n",
    "- `\"Unrated\"`: Chưa được kiểm duyệt, thường bởi vì có những cảnh nóng/bạo lực ở mức cao\n",
    "- `\"TV-14\"`: Phim có một số chi tiết không phù hợp với trẻ dưới 14 tuổi.\n",
    "- `\"NC-17\"`: Không phù hợp với thanh thiếu niên dưới 18 tuổi\n",
    "- `\"E\"`: Không rõ\n",
    "- `\"(Banned)\"`: Phim bị cấm chiếu (bởi các lí do chính trị, tiêu chuẩn đạo đức,...)\n",
    "- `\"TV-G\"`: Phù hợp với mọi lứa tuổi \n",
    "- `\"TV-PG\"`: Bố mẹ cần cân nhắc khi cho con cái xem phim.\n",
    "- `\"Approved\"`: Không rõ\n",
    "- `\"GP\"`: Sai chỉnh tả của `\"PG\"`\n",
    "- `\"X\"`: Không phù hợp với thanh thiếu niên dưới 18 tuổi\n",
    "- `\"M\"`: Phim có một số chi tiết không phù hợp với trẻ dưới 14 tuổi\n",
    "- `\"TV-Y7\"`: Không phù hợp với trẻ em dưới 7 tuổi\n",
    "- `\"M/PG\"`: Phim có một số chi tiết không phù hợp với trẻ dưới 14 tuổi.\n",
    "\n",
    "Do sự khác biệt trong thang đánh giá phim ở các nước nên cột `Certificate` có khá nhiều giá trị mang ý nghĩa tương tự nhau, nhưng nhìn chung các nhãn phim ở trên có thể chia thành các nhóm sau:\n",
    "- Phù hợp cho mọi lứa tuổi, gồm: `\"G\"`, `\"TV-G\"`\n",
    "- Phim có thể có một số chi tiết (hình ảnh, từ ngữ) không phù hợp với trẻ nhỏ. Bố mẹ cần cân nhắc khi cho con cái xem phim, gồm: `\"PG\"`, `\"TV-Y7\"`, `\"TV-PG\"`\n",
    "- Phim không dành cho trẻ em dưới 14 tuổi, gồm: `\"PG-13\"`, `\"TV-14\"`, `\"M\"`, `\"M/PG\"`.\n",
    "- Phim không phù hợp cho thanh thiếu niên dưới 18 tuổi, gồm: `\"R\"`, `\"TV-MA\"`, `\"NC-17\"`, `\"X\"`\n",
    "- Phim chưa được kiểm duyệt, gồm: `\"Not Rated\"` và `\"Unrated\"`\n",
    "- Phim bị cấm chiếu, gồm `\"(Banned)\"`\n",
    "- Không rõ ý nghĩa, gồm: `\"E\"`, `\"Approved\"`\n",
    "\n",
    "Đối với các phim có nhãn không rõ ý nghĩa và phim bị cấm chiếu, nhóm sẽ loại bỏ các dòng đó (vì số lượng không nhiều). Đối với các nhóm phim còn lại, nhóm sẽ đổi nhãn phim thành nhãn cùng nhóm có số lượng xuất hiện nhiều nhất để giảm số loại nhãn của cột, dễ phân tích về sau. Riêng với nhóm chưa được kiểm duyệt cũng sẽ được gán vào nhóm không phù hợp với thanh thiếu niên dưới 18 tuổi"
   ]
  },
  {
   "cell_type": "code",
   "execution_count": 427,
   "metadata": {},
   "outputs": [],
   "source": [
    "rerate = {\n",
    "    \"G\": \"G\",\n",
    "    \"TV-G\": \"G\",\n",
    "    \"TV-PG\": \"PG\",\n",
    "    \"PG\": \"PG\",\n",
    "    \"GP\": \"PG\",\n",
    "    \"TV-Y7\": \"PG\",\n",
    "    \"PG-13\": \"PG-13\",\n",
    "    \"TV-14\": \"PG-13\",\n",
    "    \"M\": \"PG-13\",\n",
    "    \"M/PG\": \"PG-13\",\n",
    "    \"R\": \"R\",\n",
    "    \"TV-MA\": \"R\",\n",
    "    \"NC-17\": \"R\",\n",
    "    \"X\": \"R\",\n",
    "    \"Unrated\": \"R\",\n",
    "    \"Not Rated\": \"R\",\n",
    "}"
   ]
  },
  {
   "cell_type": "code",
   "execution_count": 428,
   "metadata": {},
   "outputs": [],
   "source": [
    "df = df[~df[\"Certificate\"].isin([\"(Banned)\", \"Approved\", \"E\"])]\n",
    "df[\"Certificate\"] = df[\"Certificate\"].map(rerate)"
   ]
  },
  {
   "cell_type": "code",
   "execution_count": 429,
   "metadata": {},
   "outputs": [
    {
     "data": {
      "text/plain": [
       "<AxesSubplot: xlabel='Certificate', ylabel='count'>"
      ]
     },
     "execution_count": 429,
     "metadata": {},
     "output_type": "execute_result"
    },
    {
     "data": {
      "image/png": "[encoded data removed]",
      "text/plain": [
       "<Figure size 640x480 with 1 Axes>"
      ]
     },
     "metadata": {},
     "output_type": "display_data"
    }
   ],
   "source": [
    "sns.countplot(x = df[\"Certificate\"])"
   ]
  },
  {
   "attachments": {},
   "cell_type": "markdown",
   "metadata": {},
   "source": [
    "Sau khi gom nhóm các nhãn phim, cột `Certificate` còn lại 4 giá trị. Tuy số lượng giá trị `\"G\"` khá thấp nhưng nhóm vẫn quyết định giữ lại các dòng này"
   ]
  },
  {
   "attachments": {},
   "cell_type": "markdown",
   "metadata": {},
   "source": [
    "## 2.6. Mã hóa các giá trị của các cột đánh giá  `\"Nudity\"`, `\"Violence\"`, `\"Profanity\"`, `\"Alcohol\"`, `\"Frightening\"`"
   ]
  },
  {
   "attachments": {},
   "cell_type": "markdown",
   "metadata": {},
   "source": [
    "Như đã xử lí ở trên, các cột đánh giá sẽ có 4 mức độ:\n",
    "- `None`: Hầu như không có\n",
    "- `Mild`: Nhẹ\n",
    "- `Moderate`: Vừa phải\n",
    "- `Severe`: Nặng\n",
    "\n",
    "Nhóm sẽ chuyển các cột này thành kiểu int với cách mã hóa như sau: \n",
    "- `None`: 1\n",
    "- `Mild`: 2\n",
    "- `Moderate`: 3\n",
    "- `Severe`: 4"
   ]
  },
  {
   "cell_type": "code",
   "execution_count": 430,
   "metadata": {},
   "outputs": [],
   "source": [
    "encode = {\n",
    "    \"None\": 1,\n",
    "    \"Mild\": 2,\n",
    "    \"Moderate\": 3,\n",
    "    \"Severe\": 4\n",
    "}\n",
    "\n",
    "df[\"Nudity\"] = df[\"Nudity\"].map(encode)\n",
    "df[\"Violence\"] = df[\"Violence\"].map(encode)\n",
    "df[\"Profanity\"] = df[\"Profanity\"].map(encode)\n",
    "df[\"Alcohol\"] = df[\"Alcohol\"].map(encode)\n",
    "df[\"Frightening\"] = df[\"Frightening\"].map(encode)"
   ]
  },
  {
   "cell_type": "code",
   "execution_count": 431,
   "metadata": {},
   "outputs": [
    {
     "data": {
      "text/html": [
       "<div>\n",
       "<style scoped>\n",
       "    .dataframe tbody tr th:only-of-type {\n",
       "        vertical-align: middle;\n",
       "    }\n",
       "\n",
       "    .dataframe tbody tr th {\n",
       "        vertical-align: top;\n",
       "    }\n",
       "\n",
       "    .dataframe thead th {\n",
       "        text-align: right;\n",
       "    }\n",
       "</style>\n",
       "<table border=\"1\" class=\"dataframe\">\n",
       "  <thead>\n",
       "    <tr style=\"text-align: right;\">\n",
       "      <th></th>\n",
       "      <th>Name</th>\n",
       "      <th>Date</th>\n",
       "      <th>Rate</th>\n",
       "      <th>Votes</th>\n",
       "      <th>Genre</th>\n",
       "      <th>Duration</th>\n",
       "      <th>Certificate</th>\n",
       "      <th>Nudity</th>\n",
       "      <th>Violence</th>\n",
       "      <th>Profanity</th>\n",
       "      <th>Alcohol</th>\n",
       "      <th>Frightening</th>\n",
       "    </tr>\n",
       "  </thead>\n",
       "  <tbody>\n",
       "    <tr>\n",
       "      <th>0</th>\n",
       "      <td>No Time to Die</td>\n",
       "      <td>2021</td>\n",
       "      <td>7.6</td>\n",
       "      <td>107163</td>\n",
       "      <td>Action, Adventure, Thriller</td>\n",
       "      <td>163</td>\n",
       "      <td>PG-13</td>\n",
       "      <td>2</td>\n",
       "      <td>3</td>\n",
       "      <td>2</td>\n",
       "      <td>2</td>\n",
       "      <td>3</td>\n",
       "    </tr>\n",
       "    <tr>\n",
       "      <th>1</th>\n",
       "      <td>The Guilty</td>\n",
       "      <td>2021</td>\n",
       "      <td>6.3</td>\n",
       "      <td>64375</td>\n",
       "      <td>Crime, Drama, Thriller</td>\n",
       "      <td>90</td>\n",
       "      <td>R</td>\n",
       "      <td>1</td>\n",
       "      <td>1</td>\n",
       "      <td>4</td>\n",
       "      <td>1</td>\n",
       "      <td>3</td>\n",
       "    </tr>\n",
       "    <tr>\n",
       "      <th>2</th>\n",
       "      <td>The Many Saints of Newark</td>\n",
       "      <td>2021</td>\n",
       "      <td>6.4</td>\n",
       "      <td>27145</td>\n",
       "      <td>Crime, Drama</td>\n",
       "      <td>120</td>\n",
       "      <td>R</td>\n",
       "      <td>3</td>\n",
       "      <td>4</td>\n",
       "      <td>4</td>\n",
       "      <td>3</td>\n",
       "      <td>3</td>\n",
       "    </tr>\n",
       "    <tr>\n",
       "      <th>3</th>\n",
       "      <td>Venom: Let There Be Carnage</td>\n",
       "      <td>2021</td>\n",
       "      <td>6.4</td>\n",
       "      <td>30443</td>\n",
       "      <td>Action, Adventure, Sci-Fi</td>\n",
       "      <td>97</td>\n",
       "      <td>PG-13</td>\n",
       "      <td>1</td>\n",
       "      <td>3</td>\n",
       "      <td>3</td>\n",
       "      <td>2</td>\n",
       "      <td>3</td>\n",
       "    </tr>\n",
       "    <tr>\n",
       "      <th>4</th>\n",
       "      <td>Dune</td>\n",
       "      <td>2021</td>\n",
       "      <td>8.3</td>\n",
       "      <td>84636</td>\n",
       "      <td>Action, Adventure, Drama</td>\n",
       "      <td>155</td>\n",
       "      <td>PG-13</td>\n",
       "      <td>1</td>\n",
       "      <td>3</td>\n",
       "      <td>1</td>\n",
       "      <td>2</td>\n",
       "      <td>3</td>\n",
       "    </tr>\n",
       "    <tr>\n",
       "      <th>...</th>\n",
       "      <td>...</td>\n",
       "      <td>...</td>\n",
       "      <td>...</td>\n",
       "      <td>...</td>\n",
       "      <td>...</td>\n",
       "      <td>...</td>\n",
       "      <td>...</td>\n",
       "      <td>...</td>\n",
       "      <td>...</td>\n",
       "      <td>...</td>\n",
       "      <td>...</td>\n",
       "      <td>...</td>\n",
       "    </tr>\n",
       "    <tr>\n",
       "      <th>5021</th>\n",
       "      <td>Chugyeokja</td>\n",
       "      <td>2008</td>\n",
       "      <td>7.8</td>\n",
       "      <td>62423</td>\n",
       "      <td>Action, Crime, Thriller</td>\n",
       "      <td>125</td>\n",
       "      <td>R</td>\n",
       "      <td>2</td>\n",
       "      <td>4</td>\n",
       "      <td>3</td>\n",
       "      <td>2</td>\n",
       "      <td>4</td>\n",
       "    </tr>\n",
       "    <tr>\n",
       "      <th>5023</th>\n",
       "      <td>The Human Centipede II (Full Sequence)</td>\n",
       "      <td>2011</td>\n",
       "      <td>3.8</td>\n",
       "      <td>37492</td>\n",
       "      <td>Horror</td>\n",
       "      <td>91</td>\n",
       "      <td>R</td>\n",
       "      <td>4</td>\n",
       "      <td>4</td>\n",
       "      <td>4</td>\n",
       "      <td>2</td>\n",
       "      <td>4</td>\n",
       "    </tr>\n",
       "    <tr>\n",
       "      <th>5025</th>\n",
       "      <td>Before the Devil Knows You're Dead</td>\n",
       "      <td>2007</td>\n",
       "      <td>7.3</td>\n",
       "      <td>100668</td>\n",
       "      <td>Crime, Drama, Thriller</td>\n",
       "      <td>117</td>\n",
       "      <td>R</td>\n",
       "      <td>4</td>\n",
       "      <td>3</td>\n",
       "      <td>4</td>\n",
       "      <td>4</td>\n",
       "      <td>4</td>\n",
       "    </tr>\n",
       "    <tr>\n",
       "      <th>5026</th>\n",
       "      <td>Queen Bees</td>\n",
       "      <td>2021</td>\n",
       "      <td>6.0</td>\n",
       "      <td>887</td>\n",
       "      <td>Comedy, Drama, Romance</td>\n",
       "      <td>100</td>\n",
       "      <td>PG-13</td>\n",
       "      <td>1</td>\n",
       "      <td>1</td>\n",
       "      <td>2</td>\n",
       "      <td>3</td>\n",
       "      <td>1</td>\n",
       "    </tr>\n",
       "    <tr>\n",
       "      <th>5027</th>\n",
       "      <td>Death Race</td>\n",
       "      <td>2008</td>\n",
       "      <td>6.3</td>\n",
       "      <td>203578</td>\n",
       "      <td>Action, Sci-Fi, Thriller</td>\n",
       "      <td>105</td>\n",
       "      <td>R</td>\n",
       "      <td>2</td>\n",
       "      <td>4</td>\n",
       "      <td>4</td>\n",
       "      <td>2</td>\n",
       "      <td>3</td>\n",
       "    </tr>\n",
       "  </tbody>\n",
       "</table>\n",
       "<p>3105 rows × 12 columns</p>\n",
       "</div>"
      ],
      "text/plain": [
       "                                        Name  Date  Rate   Votes  \\\n",
       "0                             No Time to Die  2021   7.6  107163   \n",
       "1                                 The Guilty  2021   6.3   64375   \n",
       "2                  The Many Saints of Newark  2021   6.4   27145   \n",
       "3                Venom: Let There Be Carnage  2021   6.4   30443   \n",
       "4                                       Dune  2021   8.3   84636   \n",
       "...                                      ...   ...   ...     ...   \n",
       "5021                              Chugyeokja  2008   7.8   62423   \n",
       "5023  The Human Centipede II (Full Sequence)  2011   3.8   37492   \n",
       "5025      Before the Devil Knows You're Dead  2007   7.3  100668   \n",
       "5026                              Queen Bees  2021   6.0     887   \n",
       "5027                              Death Race  2008   6.3  203578   \n",
       "\n",
       "                            Genre  Duration Certificate  Nudity  Violence  \\\n",
       "0     Action, Adventure, Thriller       163       PG-13       2         3   \n",
       "1          Crime, Drama, Thriller        90           R       1         1   \n",
       "2                    Crime, Drama       120           R       3         4   \n",
       "3       Action, Adventure, Sci-Fi        97       PG-13       1         3   \n",
       "4        Action, Adventure, Drama       155       PG-13       1         3   \n",
       "...                           ...       ...         ...     ...       ...   \n",
       "5021      Action, Crime, Thriller       125           R       2         4   \n",
       "5023                       Horror        91           R       4         4   \n",
       "5025       Crime, Drama, Thriller       117           R       4         3   \n",
       "5026       Comedy, Drama, Romance       100       PG-13       1         1   \n",
       "5027     Action, Sci-Fi, Thriller       105           R       2         4   \n",
       "\n",
       "      Profanity  Alcohol  Frightening  \n",
       "0             2        2            3  \n",
       "1             4        1            3  \n",
       "2             4        3            3  \n",
       "3             3        2            3  \n",
       "4             1        2            3  \n",
       "...         ...      ...          ...  \n",
       "5021          3        2            4  \n",
       "5023          4        2            4  \n",
       "5025          4        4            4  \n",
       "5026          2        3            1  \n",
       "5027          4        2            3  \n",
       "\n",
       "[3105 rows x 12 columns]"
      ]
     },
     "execution_count": 431,
     "metadata": {},
     "output_type": "execute_result"
    }
   ],
   "source": [
    "df"
   ]
  },
  {
   "attachments": {},
   "cell_type": "markdown",
   "metadata": {},
   "source": [
    "Sau khi tiền xử lí, dữ liệu coàn 3105 dòng và 12 cột. Nhóm sẽ sử dụng dữ liệu này để phân tích và trực quan hóa"
   ]
  },
  {
   "cell_type": "code",
   "execution_count": 432,
   "metadata": {},
   "outputs": [],
   "source": [
    "df.to_csv(\"../data/imdb_clean.csv\", index = False)"
   ]
  }
 ],
 "metadata": {
  "kernelspec": {
   "display_name": "base",
   "language": "python",
   "name": "python3"
  },
  "language_info": {
   "codemirror_mode": {
    "name": "ipython",
    "version": 3
   },
   "file_extension": ".py",
   "mimetype": "text/x-python",
   "name": "python",
   "nbconvert_exporter": "python",
   "pygments_lexer": "ipython3",
   "version": "3.10.9"
  },
  "orig_nbformat": 4,
  "vscode": {
   "interpreter": {
    "hash": "68e48573c87c090632f5903b75e1cec7408bc89eb36d87cee002984e60e7b896"
   }
  }
 },
 "nbformat": 4,
 "nbformat_minor": 2
}
